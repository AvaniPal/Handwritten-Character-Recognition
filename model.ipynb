{
 "cells": [
  {
   "cell_type": "code",
   "execution_count": 1,
   "metadata": {},
   "outputs": [],
   "source": [
    "import numpy as np\n",
    "import cv2\n",
    "import matplotlib.pyplot as plt\n",
    "from keras.models import Sequential\n",
    "from keras.layers.core import Dense, Dropout, Activation, Flatten\n",
    "from keras.layers import Conv2D, MaxPool2D\n",
    "from keras import optimizers\n",
    "from keras.datasets import mnist\n",
    "from tensorflow.keras.utils import to_categorical\n",
    "import tensorflow as tf\n",
    "import keras\n",
    "from sklearn.model_selection import train_test_split\n",
    "from sklearn import metrics\n",
    "from sklearn.metrics import confusion_matrix"
   ]
  },
  {
   "cell_type": "markdown",
   "metadata": {},
   "source": [
    "### Loading MIST dataset"
   ]
  },
  {
   "cell_type": "code",
   "execution_count": 52,
   "metadata": {},
   "outputs": [
    {
     "name": "stdout",
     "output_type": "stream",
     "text": [
      "x_train shape: (60000, 28, 28, 1)\n",
      "60000 train samples\n",
      "10000 test samples\n"
     ]
    }
   ],
   "source": [
    "(x_train, y_train), (x_test, y_test) = mnist.load_data()\n",
    "\n",
    "x_train = x_train.reshape(60000,28,28,1)\n",
    "x_test = x_test.reshape(10000,28,28,1)\n",
    "\n",
    "print('x_train shape:', x_train.shape)\n",
    "print(x_train.shape[0], 'train samples')\n",
    "print(x_test.shape[0], 'test samples')\n",
    "\n",
    "y_train = to_categorical(y_train, 10)\n",
    "y_test = to_categorical(y_test, 10)"
   ]
  },
  {
   "cell_type": "markdown",
   "metadata": {},
   "source": [
    "## CNN MODEL"
   ]
  },
  {
   "cell_type": "code",
   "execution_count": 53,
   "metadata": {},
   "outputs": [],
   "source": [
    "model = Sequential()\n",
    "model.add(Conv2D(32, kernel_size=(3, 3),\n",
    "                 activation='relu',\n",
    "                 input_shape=(28,28,1)))\n",
    "model.add(Conv2D(64, (3, 3), activation='relu'))\n",
    "model.add(MaxPool2D(pool_size=(2, 2)))\n",
    "model.add(Dropout(0.25))\n",
    "model.add(Flatten())\n",
    "model.add(Dense(128, activation='relu'))\n",
    "model.add(Dropout(0.5))\n",
    "model.add(Dense(10, activation='softmax'))"
   ]
  },
  {
   "cell_type": "code",
   "execution_count": 54,
   "metadata": {},
   "outputs": [],
   "source": [
    "model.compile(loss=keras.losses.categorical_crossentropy,\n",
    "              optimizer=tf.keras.optimizers.Adadelta(),\n",
    "              metrics=['accuracy'])"
   ]
  },
  {
   "cell_type": "code",
   "execution_count": 55,
   "metadata": {},
   "outputs": [
    {
     "name": "stdout",
     "output_type": "stream",
     "text": [
      "Epoch 1/12\n",
      "300/300 [==============================] - 169s 562ms/step - loss: 35.6301 - accuracy: 0.1360 - val_loss: 7.2658 - val_accuracy: 0.3199\n",
      "Epoch 2/12\n",
      "300/300 [==============================] - 181s 605ms/step - loss: 17.6550 - accuracy: 0.2163 - val_loss: 3.0641 - val_accuracy: 0.4844\n",
      "Epoch 3/12\n",
      "300/300 [==============================] - 176s 587ms/step - loss: 9.7776 - accuracy: 0.2745 - val_loss: 1.7727 - val_accuracy: 0.5287\n",
      "Epoch 4/12\n",
      "300/300 [==============================] - 302s 1s/step - loss: 5.9209 - accuracy: 0.2980 - val_loss: 1.5247 - val_accuracy: 0.4988\n",
      "Epoch 5/12\n",
      "300/300 [==============================] - 433s 1s/step - loss: 3.8658 - accuracy: 0.2960 - val_loss: 1.6532 - val_accuracy: 0.4305\n",
      "Epoch 6/12\n",
      "300/300 [==============================] - 203s 676ms/step - loss: 2.9157 - accuracy: 0.2843 - val_loss: 1.7837 - val_accuracy: 0.3816\n",
      "Epoch 7/12\n",
      "300/300 [==============================] - 206s 686ms/step - loss: 2.4900 - accuracy: 0.2767 - val_loss: 1.8429 - val_accuracy: 0.3651\n",
      "Epoch 8/12\n",
      "300/300 [==============================] - 172s 572ms/step - loss: 2.2930 - accuracy: 0.2787 - val_loss: 1.8455 - val_accuracy: 0.3762\n",
      "Epoch 9/12\n",
      "300/300 [==============================] - 167s 556ms/step - loss: 2.1802 - accuracy: 0.2893 - val_loss: 1.8196 - val_accuracy: 0.3950\n",
      "Epoch 10/12\n",
      "300/300 [==============================] - 143s 476ms/step - loss: 2.1163 - accuracy: 0.2970 - val_loss: 1.7763 - val_accuracy: 0.4218\n",
      "Epoch 11/12\n",
      "300/300 [==============================] - 137s 457ms/step - loss: 2.0317 - accuracy: 0.3150 - val_loss: 1.7196 - val_accuracy: 0.4523\n",
      "Epoch 12/12\n",
      "300/300 [==============================] - 132s 441ms/step - loss: 1.9949 - accuracy: 0.3311 - val_loss: 1.6691 - val_accuracy: 0.4788\n"
     ]
    },
    {
     "data": {
      "text/plain": [
       "<keras.callbacks.History at 0x1b4a4619610>"
      ]
     },
     "execution_count": 55,
     "metadata": {},
     "output_type": "execute_result"
    }
   ],
   "source": [
    "model.fit(X_train, y_train,\n",
    "          batch_size=200,\n",
    "          epochs=12,\n",
    "          verbose=1,\n",
    "          validation_data=(X_test, y_test))"
   ]
  },
  {
   "cell_type": "code",
   "execution_count": 56,
   "metadata": {},
   "outputs": [],
   "source": [
    "model.save('digit_classifier2.h5')"
   ]
  }
 ],
 "metadata": {
  "kernelspec": {
   "display_name": "Python 3",
   "language": "python",
   "name": "python3"
  },
  "language_info": {
   "codemirror_mode": {
    "name": "ipython",
    "version": 3
   },
   "file_extension": ".py",
   "mimetype": "text/x-python",
   "name": "python",
   "nbconvert_exporter": "python",
   "pygments_lexer": "ipython3",
   "version": "3.8.5"
  }
 },
 "nbformat": 4,
 "nbformat_minor": 4
}
